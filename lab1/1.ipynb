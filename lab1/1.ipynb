{
 "cells": [
  {
   "cell_type": "code",
   "execution_count": 1,
   "metadata": {},
   "outputs": [],
   "source": [
    "import pandas as pd\n",
    "import seaborn as sns\n",
    "import matplotlib.pyplot as plt\n",
    "import jupyter\n",
    "pd.set_option('display.float_format', lambda x: '{:.3f}'.format(x))"
   ]
  },
  {
   "cell_type": "markdown",
   "metadata": {},
   "source": [
    "У дата сеті знаходяться 31 набір даних з іменами nyt1.csv, nyt2.csv, ..., nyt31.csv.\n",
    "Кожен із них демонструє один (симульований) день показів оголошень та переходів по них, записаних на головній сторінці газети The New York Times у травні 2012 року. Кожен рядок представляє одного користувача. Існує п'ять стовпців: вік, стать (0 = жінка, 1 = чоловік), кількість показів, кількість переходів та статус авторизації.\n"
   ]
  },
  {
   "cell_type": "code",
   "execution_count": 2,
   "metadata": {},
   "outputs": [],
   "source": [
    "datasets_files = [f'./datasets/nyt{i}.csv' for i in range(1,32)]\n",
    "\n",
    "data_frames = [pd.read_csv(file, dtype=int) for file in datasets_files]\n",
    "for df in data_frames:\n",
    "    df.columns=[\"Age\",\"Gender\",\"Impressions\",\"Clicks\",\"Signed_In\"]\n",
    "result_df = pd.concat(data_frames,axis=0, ignore_index=True)\n",
    "\n"
   ]
  },
  {
   "cell_type": "code",
   "execution_count": 3,
   "metadata": {},
   "outputs": [
    {
     "name": "stdout",
     "output_type": "stream",
     "text": [
      "<class 'pandas.core.frame.DataFrame'>\n",
      "RangeIndex: 14905865 entries, 0 to 14905864\n",
      "Data columns (total 5 columns):\n",
      " #   Column       Dtype\n",
      "---  ------       -----\n",
      " 0   Age          int32\n",
      " 1   Gender       int32\n",
      " 2   Impressions  int32\n",
      " 3   Clicks       int32\n",
      " 4   Signed_In    int32\n",
      "dtypes: int32(5)\n",
      "memory usage: 284.3 MB\n"
     ]
    }
   ],
   "source": [
    "result_df.info()"
   ]
  },
  {
   "cell_type": "code",
   "execution_count": 4,
   "metadata": {},
   "outputs": [
    {
     "data": {
      "text/html": [
       "<div>\n",
       "<style scoped>\n",
       "    .dataframe tbody tr th:only-of-type {\n",
       "        vertical-align: middle;\n",
       "    }\n",
       "\n",
       "    .dataframe tbody tr th {\n",
       "        vertical-align: top;\n",
       "    }\n",
       "\n",
       "    .dataframe thead th {\n",
       "        text-align: right;\n",
       "    }\n",
       "</style>\n",
       "<table border=\"1\" class=\"dataframe\">\n",
       "  <thead>\n",
       "    <tr style=\"text-align: right;\">\n",
       "      <th></th>\n",
       "      <th>Age</th>\n",
       "      <th>Gender</th>\n",
       "      <th>Impressions</th>\n",
       "      <th>Clicks</th>\n",
       "      <th>Signed_In</th>\n",
       "    </tr>\n",
       "  </thead>\n",
       "  <tbody>\n",
       "    <tr>\n",
       "      <th>count</th>\n",
       "      <td>14905865.000</td>\n",
       "      <td>14905865.000</td>\n",
       "      <td>14905865.000</td>\n",
       "      <td>14905865.000</td>\n",
       "      <td>14905865.000</td>\n",
       "    </tr>\n",
       "    <tr>\n",
       "      <th>mean</th>\n",
       "      <td>26.243</td>\n",
       "      <td>0.323</td>\n",
       "      <td>5.000</td>\n",
       "      <td>0.098</td>\n",
       "      <td>0.623</td>\n",
       "    </tr>\n",
       "    <tr>\n",
       "      <th>std</th>\n",
       "      <td>24.129</td>\n",
       "      <td>0.468</td>\n",
       "      <td>2.236</td>\n",
       "      <td>0.319</td>\n",
       "      <td>0.485</td>\n",
       "    </tr>\n",
       "    <tr>\n",
       "      <th>min</th>\n",
       "      <td>0.000</td>\n",
       "      <td>0.000</td>\n",
       "      <td>0.000</td>\n",
       "      <td>0.000</td>\n",
       "      <td>0.000</td>\n",
       "    </tr>\n",
       "    <tr>\n",
       "      <th>25%</th>\n",
       "      <td>0.000</td>\n",
       "      <td>0.000</td>\n",
       "      <td>3.000</td>\n",
       "      <td>0.000</td>\n",
       "      <td>0.000</td>\n",
       "    </tr>\n",
       "    <tr>\n",
       "      <th>50%</th>\n",
       "      <td>26.000</td>\n",
       "      <td>0.000</td>\n",
       "      <td>5.000</td>\n",
       "      <td>0.000</td>\n",
       "      <td>1.000</td>\n",
       "    </tr>\n",
       "    <tr>\n",
       "      <th>75%</th>\n",
       "      <td>46.000</td>\n",
       "      <td>1.000</td>\n",
       "      <td>6.000</td>\n",
       "      <td>0.000</td>\n",
       "      <td>1.000</td>\n",
       "    </tr>\n",
       "    <tr>\n",
       "      <th>max</th>\n",
       "      <td>115.000</td>\n",
       "      <td>1.000</td>\n",
       "      <td>21.000</td>\n",
       "      <td>6.000</td>\n",
       "      <td>1.000</td>\n",
       "    </tr>\n",
       "  </tbody>\n",
       "</table>\n",
       "</div>"
      ],
      "text/plain": [
       "               Age       Gender  Impressions       Clicks    Signed_In\n",
       "count 14905865.000 14905865.000 14905865.000 14905865.000 14905865.000\n",
       "mean        26.243        0.323        5.000        0.098        0.623\n",
       "std         24.129        0.468        2.236        0.319        0.485\n",
       "min          0.000        0.000        0.000        0.000        0.000\n",
       "25%          0.000        0.000        3.000        0.000        0.000\n",
       "50%         26.000        0.000        5.000        0.000        1.000\n",
       "75%         46.000        1.000        6.000        0.000        1.000\n",
       "max        115.000        1.000       21.000        6.000        1.000"
      ]
     },
     "execution_count": 4,
     "metadata": {},
     "output_type": "execute_result"
    }
   ],
   "source": [
    "result_df.describe()"
   ]
  },
  {
   "cell_type": "code",
   "execution_count": 5,
   "metadata": {},
   "outputs": [],
   "source": [
    "result_df['Gender'].replace({1:'Чоловік', 0:'Жінка'},inplace=True)"
   ]
  },
  {
   "cell_type": "markdown",
   "metadata": {},
   "source": [
    "•\tСтворіть нову змінну age_group, яка агрегує користувачів як <18, 18–24, 25–34, 35–44, 45–54, 55–64 та 65+."
   ]
  },
  {
   "cell_type": "code",
   "execution_count": 6,
   "metadata": {},
   "outputs": [
    {
     "data": {
      "text/html": [
       "<div>\n",
       "<style scoped>\n",
       "    .dataframe tbody tr th:only-of-type {\n",
       "        vertical-align: middle;\n",
       "    }\n",
       "\n",
       "    .dataframe tbody tr th {\n",
       "        vertical-align: top;\n",
       "    }\n",
       "\n",
       "    .dataframe thead th {\n",
       "        text-align: right;\n",
       "    }\n",
       "</style>\n",
       "<table border=\"1\" class=\"dataframe\">\n",
       "  <thead>\n",
       "    <tr style=\"text-align: right;\">\n",
       "      <th></th>\n",
       "      <th>Age</th>\n",
       "      <th>Gender</th>\n",
       "      <th>Impressions</th>\n",
       "      <th>Clicks</th>\n",
       "      <th>Signed_In</th>\n",
       "      <th>age_group</th>\n",
       "    </tr>\n",
       "  </thead>\n",
       "  <tbody>\n",
       "    <tr>\n",
       "      <th>0</th>\n",
       "      <td>36</td>\n",
       "      <td>Жінка</td>\n",
       "      <td>3</td>\n",
       "      <td>0</td>\n",
       "      <td>1</td>\n",
       "      <td>35-44</td>\n",
       "    </tr>\n",
       "    <tr>\n",
       "      <th>1</th>\n",
       "      <td>73</td>\n",
       "      <td>Чоловік</td>\n",
       "      <td>3</td>\n",
       "      <td>0</td>\n",
       "      <td>1</td>\n",
       "      <td>65+</td>\n",
       "    </tr>\n",
       "    <tr>\n",
       "      <th>2</th>\n",
       "      <td>30</td>\n",
       "      <td>Жінка</td>\n",
       "      <td>3</td>\n",
       "      <td>0</td>\n",
       "      <td>1</td>\n",
       "      <td>25-34</td>\n",
       "    </tr>\n",
       "    <tr>\n",
       "      <th>3</th>\n",
       "      <td>49</td>\n",
       "      <td>Чоловік</td>\n",
       "      <td>3</td>\n",
       "      <td>0</td>\n",
       "      <td>1</td>\n",
       "      <td>45-54</td>\n",
       "    </tr>\n",
       "    <tr>\n",
       "      <th>4</th>\n",
       "      <td>47</td>\n",
       "      <td>Чоловік</td>\n",
       "      <td>11</td>\n",
       "      <td>0</td>\n",
       "      <td>1</td>\n",
       "      <td>45-54</td>\n",
       "    </tr>\n",
       "    <tr>\n",
       "      <th>...</th>\n",
       "      <td>...</td>\n",
       "      <td>...</td>\n",
       "      <td>...</td>\n",
       "      <td>...</td>\n",
       "      <td>...</td>\n",
       "      <td>...</td>\n",
       "    </tr>\n",
       "    <tr>\n",
       "      <th>14905860</th>\n",
       "      <td>41</td>\n",
       "      <td>Чоловік</td>\n",
       "      <td>4</td>\n",
       "      <td>0</td>\n",
       "      <td>1</td>\n",
       "      <td>35-44</td>\n",
       "    </tr>\n",
       "    <tr>\n",
       "      <th>14905861</th>\n",
       "      <td>0</td>\n",
       "      <td>Жінка</td>\n",
       "      <td>5</td>\n",
       "      <td>0</td>\n",
       "      <td>0</td>\n",
       "      <td>&lt;18</td>\n",
       "    </tr>\n",
       "    <tr>\n",
       "      <th>14905862</th>\n",
       "      <td>22</td>\n",
       "      <td>Чоловік</td>\n",
       "      <td>3</td>\n",
       "      <td>0</td>\n",
       "      <td>1</td>\n",
       "      <td>18-24</td>\n",
       "    </tr>\n",
       "    <tr>\n",
       "      <th>14905863</th>\n",
       "      <td>59</td>\n",
       "      <td>Жінка</td>\n",
       "      <td>5</td>\n",
       "      <td>1</td>\n",
       "      <td>1</td>\n",
       "      <td>55-64</td>\n",
       "    </tr>\n",
       "    <tr>\n",
       "      <th>14905864</th>\n",
       "      <td>29</td>\n",
       "      <td>Чоловік</td>\n",
       "      <td>4</td>\n",
       "      <td>0</td>\n",
       "      <td>1</td>\n",
       "      <td>25-34</td>\n",
       "    </tr>\n",
       "  </tbody>\n",
       "</table>\n",
       "<p>14905865 rows × 6 columns</p>\n",
       "</div>"
      ],
      "text/plain": [
       "          Age   Gender  Impressions  Clicks  Signed_In age_group\n",
       "0          36    Жінка            3       0          1     35-44\n",
       "1          73  Чоловік            3       0          1       65+\n",
       "2          30    Жінка            3       0          1     25-34\n",
       "3          49  Чоловік            3       0          1     45-54\n",
       "4          47  Чоловік           11       0          1     45-54\n",
       "...       ...      ...          ...     ...        ...       ...\n",
       "14905860   41  Чоловік            4       0          1     35-44\n",
       "14905861    0    Жінка            5       0          0       <18\n",
       "14905862   22  Чоловік            3       0          1     18-24\n",
       "14905863   59    Жінка            5       1          1     55-64\n",
       "14905864   29  Чоловік            4       0          1     25-34\n",
       "\n",
       "[14905865 rows x 6 columns]"
      ]
     },
     "execution_count": 6,
     "metadata": {},
     "output_type": "execute_result"
    }
   ],
   "source": [
    "bins = [-1,18,25,35,45,55,65, result_df['Age'].max()+1]\n",
    "labels = ['<18', '18-24', '25-34', '35-44', '45-54', '55-64', '65+']\n",
    "result_df['age_group'] = pd.cut(result_df['Age'], bins=bins, labels=labels)\n",
    "result_df"
   ]
  },
  {
   "cell_type": "markdown",
   "metadata": {},
   "source": [
    "•\tЗафіксуйте на діаграмі кількість показів та показник переходів (CTR = #clicks/#inmpressions) для цих шести вікових категорій."
   ]
  },
  {
   "cell_type": "code",
   "execution_count": 7,
   "metadata": {},
   "outputs": [
    {
     "data": {
      "text/html": [
       "<div>\n",
       "<style scoped>\n",
       "    .dataframe tbody tr th:only-of-type {\n",
       "        vertical-align: middle;\n",
       "    }\n",
       "\n",
       "    .dataframe tbody tr th {\n",
       "        vertical-align: top;\n",
       "    }\n",
       "\n",
       "    .dataframe thead th {\n",
       "        text-align: right;\n",
       "    }\n",
       "</style>\n",
       "<table border=\"1\" class=\"dataframe\">\n",
       "  <thead>\n",
       "    <tr style=\"text-align: right;\">\n",
       "      <th></th>\n",
       "      <th>age_group</th>\n",
       "      <th>Clicks</th>\n",
       "      <th>Impressions</th>\n",
       "      <th>CTR</th>\n",
       "    </tr>\n",
       "  </thead>\n",
       "  <tbody>\n",
       "    <tr>\n",
       "      <th>0</th>\n",
       "      <td>&lt;18</td>\n",
       "      <td>870621</td>\n",
       "      <td>30863133</td>\n",
       "      <td>2.821</td>\n",
       "    </tr>\n",
       "    <tr>\n",
       "      <th>1</th>\n",
       "      <td>18-24</td>\n",
       "      <td>55753</td>\n",
       "      <td>5575517</td>\n",
       "      <td>1.000</td>\n",
       "    </tr>\n",
       "    <tr>\n",
       "      <th>2</th>\n",
       "      <td>25-34</td>\n",
       "      <td>84864</td>\n",
       "      <td>8463718</td>\n",
       "      <td>1.003</td>\n",
       "    </tr>\n",
       "    <tr>\n",
       "      <th>3</th>\n",
       "      <td>35-44</td>\n",
       "      <td>101789</td>\n",
       "      <td>10167134</td>\n",
       "      <td>1.001</td>\n",
       "    </tr>\n",
       "    <tr>\n",
       "      <th>4</th>\n",
       "      <td>45-54</td>\n",
       "      <td>95372</td>\n",
       "      <td>9137803</td>\n",
       "      <td>1.044</td>\n",
       "    </tr>\n",
       "    <tr>\n",
       "      <th>5</th>\n",
       "      <td>55-64</td>\n",
       "      <td>127831</td>\n",
       "      <td>6299567</td>\n",
       "      <td>2.029</td>\n",
       "    </tr>\n",
       "    <tr>\n",
       "      <th>6</th>\n",
       "      <td>65+</td>\n",
       "      <td>120538</td>\n",
       "      <td>4015196</td>\n",
       "      <td>3.002</td>\n",
       "    </tr>\n",
       "  </tbody>\n",
       "</table>\n",
       "</div>"
      ],
      "text/plain": [
       "  age_group  Clicks  Impressions   CTR\n",
       "0       <18  870621     30863133 2.821\n",
       "1     18-24   55753      5575517 1.000\n",
       "2     25-34   84864      8463718 1.003\n",
       "3     35-44  101789     10167134 1.001\n",
       "4     45-54   95372      9137803 1.044\n",
       "5     55-64  127831      6299567 2.029\n",
       "6       65+  120538      4015196 3.002"
      ]
     },
     "execution_count": 7,
     "metadata": {},
     "output_type": "execute_result"
    }
   ],
   "source": [
    "age_group_ = result_df.groupby('age_group')[['Clicks','Impressions']].sum()\n",
    "age_group_['CTR'] = age_group_['Clicks'] / age_group_['Impressions'] * 100\n",
    "age_group_.reset_index(inplace=True)\n",
    "age_group_"
   ]
  },
  {
   "cell_type": "code",
   "execution_count": 8,
   "metadata": {},
   "outputs": [
    {
     "data": {
      "image/png": "[encoded data removed]",
      "text/plain": [
       "<Figure size 1200x600 with 4 Axes>"
      ]
     },
     "metadata": {},
     "output_type": "display_data"
    }
   ],
   "source": [
    "fig, axes = plt.subplots(2, 2, figsize=(12, 6))\n",
    "\n",
    "sns.barplot(data=age_group_, x='age_group', y='Impressions', ax=axes[0,0])\n",
    "axes[0,0].set(ylabel='Покази', xlabel='Вікові групи')\n",
    "\n",
    "sns.barplot(data=age_group_, x='age_group', y='Clicks', ax=axes[0,1])\n",
    "axes[0,1].set(ylabel='Переходи', xlabel='Вікові групи')\n",
    "\n",
    "sns.barplot(data=age_group_, x='age_group', y='CTR', ax=axes[1,0])\n",
    "axes[1,0].set(ylabel='CTR %', xlabel='Вікові групи')\n",
    "\n",
    "axes[1,1].axis('off')\n",
    "\n",
    "plt.suptitle('Графіки трьох показників для різних вікових груп')\n",
    "plt.tight_layout()\n",
    "plt.show()"
   ]
  },
  {
   "cell_type": "markdown",
   "metadata": {},
   "source": [
    "•\tВивчіть дані та проведіть візуальні та кількісні порівняння між сегментами користувачів/демографічними групами (наприклад, чоловіки старше 18 років у порівнянні з жінками старше 18 років або авторизовані та неавторизовані користувачі)."
   ]
  },
  {
   "cell_type": "code",
   "execution_count": 9,
   "metadata": {},
   "outputs": [
    {
     "data": {
      "text/html": [
       "<div>\n",
       "<style scoped>\n",
       "    .dataframe tbody tr th:only-of-type {\n",
       "        vertical-align: middle;\n",
       "    }\n",
       "\n",
       "    .dataframe tbody tr th {\n",
       "        vertical-align: top;\n",
       "    }\n",
       "\n",
       "    .dataframe thead th {\n",
       "        text-align: right;\n",
       "    }\n",
       "</style>\n",
       "<table border=\"1\" class=\"dataframe\">\n",
       "  <thead>\n",
       "    <tr style=\"text-align: right;\">\n",
       "      <th></th>\n",
       "      <th>Gender</th>\n",
       "      <th>Clicks</th>\n",
       "      <th>Impressions</th>\n",
       "      <th>Signed_In</th>\n",
       "    </tr>\n",
       "  </thead>\n",
       "  <tbody>\n",
       "    <tr>\n",
       "      <th>0</th>\n",
       "      <td>Жінка</td>\n",
       "      <td>0.070</td>\n",
       "      <td>21373411</td>\n",
       "      <td>4275335</td>\n",
       "    </tr>\n",
       "    <tr>\n",
       "      <th>1</th>\n",
       "      <td>Чоловік</td>\n",
       "      <td>0.064</td>\n",
       "      <td>22285524</td>\n",
       "      <td>4459932</td>\n",
       "    </tr>\n",
       "  </tbody>\n",
       "</table>\n",
       "</div>"
      ],
      "text/plain": [
       "    Gender  Clicks  Impressions  Signed_In\n",
       "0    Жінка   0.070     21373411    4275335\n",
       "1  Чоловік   0.064     22285524    4459932"
      ]
     },
     "execution_count": 9,
     "metadata": {},
     "output_type": "execute_result"
    }
   ],
   "source": [
    "# Age\tGender\tImpressions\tClicks\tSigned_In\n",
    "older_18 = result_df[result_df['Age'] > 18]\n",
    "older_18_count = older_18.size\n",
    "gender_group = older_18.groupby('Gender').agg(\n",
    "    {'Clicks': 'mean',\n",
    "     'Impressions': 'sum',\n",
    "     'Signed_In': lambda x: sum(x)})\n",
    "gender_group.reset_index(inplace=True)\n",
    "gender_group"
   ]
  },
  {
   "cell_type": "code",
   "execution_count": 10,
   "metadata": {},
   "outputs": [
    {
     "data": {
      "image/png": "[encoded data removed]",
      "text/plain": [
       "<Figure size 1200x700 with 3 Axes>"
      ]
     },
     "metadata": {},
     "output_type": "display_data"
    }
   ],
   "source": [
    "fig, axes = plt.subplots(1, 3, figsize=(12, 7))\n",
    "\n",
    "sns.barplot(data=gender_group, x='Gender', y='Clicks', ax=axes[0])\n",
    "axes[0].set(ylabel='Переходи в середньому', xlabel='Стать')\n",
    "\n",
    "sns.barplot(data=gender_group, x='Gender', y='Impressions', ax=axes[1])\n",
    "axes[1].set(ylabel='Покази в сумі', xlabel='Стать')\n",
    "\n",
    "sns.barplot(data=gender_group, x='Gender', y='Signed_In', ax=axes[2])\n",
    "axes[2].set(ylabel='Кількість авторизованих', xlabel='Стать')\n",
    "\n",
    "plt.suptitle('Графіки трьох показників для чоловіків і жінок старше 18 років')\n",
    "plt.tight_layout()\n",
    "plt.show()"
   ]
  },
  {
   "cell_type": "code",
   "execution_count": 11,
   "metadata": {},
   "outputs": [],
   "source": [
    "authorised_users_group = result_df[result_df['Signed_In']==1].groupby(['age_group','Gender']).agg(\n",
    "    {\n",
    "        'Clicks':'sum',\n",
    "        'Impressions':'sum'\n",
    "    }\n",
    ")\n",
    "authorised_users_group.reset_index(inplace=True)"
   ]
  },
  {
   "cell_type": "code",
   "execution_count": 12,
   "metadata": {},
   "outputs": [
    {
     "data": {
      "text/html": [
       "<div>\n",
       "<style scoped>\n",
       "    .dataframe tbody tr th:only-of-type {\n",
       "        vertical-align: middle;\n",
       "    }\n",
       "\n",
       "    .dataframe tbody tr th {\n",
       "        vertical-align: top;\n",
       "    }\n",
       "\n",
       "    .dataframe thead th {\n",
       "        text-align: right;\n",
       "    }\n",
       "</style>\n",
       "<table border=\"1\" class=\"dataframe\">\n",
       "  <thead>\n",
       "    <tr style=\"text-align: right;\">\n",
       "      <th></th>\n",
       "      <th>age_group</th>\n",
       "      <th>Gender</th>\n",
       "      <th>Clicks</th>\n",
       "      <th>Impressions</th>\n",
       "    </tr>\n",
       "  </thead>\n",
       "  <tbody>\n",
       "    <tr>\n",
       "      <th>0</th>\n",
       "      <td>&lt;18</td>\n",
       "      <td>Жінка</td>\n",
       "      <td>25810</td>\n",
       "      <td>1009067</td>\n",
       "    </tr>\n",
       "    <tr>\n",
       "      <th>1</th>\n",
       "      <td>&lt;18</td>\n",
       "      <td>Чоловік</td>\n",
       "      <td>48363</td>\n",
       "      <td>1779404</td>\n",
       "    </tr>\n",
       "    <tr>\n",
       "      <th>2</th>\n",
       "      <td>18-24</td>\n",
       "      <td>Жінка</td>\n",
       "      <td>26444</td>\n",
       "      <td>2640764</td>\n",
       "    </tr>\n",
       "    <tr>\n",
       "      <th>3</th>\n",
       "      <td>18-24</td>\n",
       "      <td>Чоловік</td>\n",
       "      <td>29309</td>\n",
       "      <td>2934753</td>\n",
       "    </tr>\n",
       "    <tr>\n",
       "      <th>4</th>\n",
       "      <td>25-34</td>\n",
       "      <td>Жінка</td>\n",
       "      <td>40253</td>\n",
       "      <td>4007824</td>\n",
       "    </tr>\n",
       "    <tr>\n",
       "      <th>5</th>\n",
       "      <td>25-34</td>\n",
       "      <td>Чоловік</td>\n",
       "      <td>44611</td>\n",
       "      <td>4455894</td>\n",
       "    </tr>\n",
       "    <tr>\n",
       "      <th>6</th>\n",
       "      <td>35-44</td>\n",
       "      <td>Жінка</td>\n",
       "      <td>48343</td>\n",
       "      <td>4810547</td>\n",
       "    </tr>\n",
       "    <tr>\n",
       "      <th>7</th>\n",
       "      <td>35-44</td>\n",
       "      <td>Чоловік</td>\n",
       "      <td>53446</td>\n",
       "      <td>5356587</td>\n",
       "    </tr>\n",
       "    <tr>\n",
       "      <th>8</th>\n",
       "      <td>45-54</td>\n",
       "      <td>Жінка</td>\n",
       "      <td>45439</td>\n",
       "      <td>4330035</td>\n",
       "    </tr>\n",
       "    <tr>\n",
       "      <th>9</th>\n",
       "      <td>45-54</td>\n",
       "      <td>Чоловік</td>\n",
       "      <td>49933</td>\n",
       "      <td>4807768</td>\n",
       "    </tr>\n",
       "    <tr>\n",
       "      <th>10</th>\n",
       "      <td>55-64</td>\n",
       "      <td>Жінка</td>\n",
       "      <td>60747</td>\n",
       "      <td>2985676</td>\n",
       "    </tr>\n",
       "    <tr>\n",
       "      <th>11</th>\n",
       "      <td>55-64</td>\n",
       "      <td>Чоловік</td>\n",
       "      <td>67084</td>\n",
       "      <td>3313891</td>\n",
       "    </tr>\n",
       "    <tr>\n",
       "      <th>12</th>\n",
       "      <td>65+</td>\n",
       "      <td>Жінка</td>\n",
       "      <td>77767</td>\n",
       "      <td>2598565</td>\n",
       "    </tr>\n",
       "    <tr>\n",
       "      <th>13</th>\n",
       "      <td>65+</td>\n",
       "      <td>Чоловік</td>\n",
       "      <td>42771</td>\n",
       "      <td>1416631</td>\n",
       "    </tr>\n",
       "  </tbody>\n",
       "</table>\n",
       "</div>"
      ],
      "text/plain": [
       "   age_group   Gender  Clicks  Impressions\n",
       "0        <18    Жінка   25810      1009067\n",
       "1        <18  Чоловік   48363      1779404\n",
       "2      18-24    Жінка   26444      2640764\n",
       "3      18-24  Чоловік   29309      2934753\n",
       "4      25-34    Жінка   40253      4007824\n",
       "5      25-34  Чоловік   44611      4455894\n",
       "6      35-44    Жінка   48343      4810547\n",
       "7      35-44  Чоловік   53446      5356587\n",
       "8      45-54    Жінка   45439      4330035\n",
       "9      45-54  Чоловік   49933      4807768\n",
       "10     55-64    Жінка   60747      2985676\n",
       "11     55-64  Чоловік   67084      3313891\n",
       "12       65+    Жінка   77767      2598565\n",
       "13       65+  Чоловік   42771      1416631"
      ]
     },
     "execution_count": 12,
     "metadata": {},
     "output_type": "execute_result"
    }
   ],
   "source": [
    "authorised_users_group"
   ]
  },
  {
   "cell_type": "code",
   "execution_count": 13,
   "metadata": {},
   "outputs": [
    {
     "data": {
      "image/png": "[encoded data removed]",
      "text/plain": [
       "<Figure size 1200x700 with 2 Axes>"
      ]
     },
     "metadata": {},
     "output_type": "display_data"
    }
   ],
   "source": [
    "fig, axes = plt.subplots(1, 2, figsize=(12, 7))\n",
    "\n",
    "sns.barplot(data=authorised_users_group, x='age_group', y = 'Clicks', hue='Gender',ax=axes[0])\n",
    "axes[0].set(ylabel='Переходи', xlabel='Вікова група', title = \"Тільки для авторизованих\")\n",
    "\n",
    "sns.barplot(data=authorised_users_group, x='age_group', y = 'Impressions', hue='Gender',ax=axes[1])\n",
    "axes[1].set(ylabel='Покази', xlabel='Вікова група', title = \"Тільки для авторизованих\")\n",
    "\n",
    "plt.suptitle('Графіки трьох показників для чоловіків і жінок різних вікових груп')\n",
    "plt.tight_layout()\n",
    "plt.show()\n"
   ]
  },
  {
   "cell_type": "markdown",
   "metadata": {},
   "source": [
    "•\tСтворіть метрики/вимірювання/статистику, які підсумовують дані. Приклади можливих метрик включають CTR, квантил, середнє значення, медіану, дисперсію та максимальне значення. Ці показники потрібно розрахувати за різними сегментами користувачів. Подумайте про елементи, які важливо відстежувати з часом - що стискає дані, але, як і раніше, захоплює поведінку користувача."
   ]
  },
  {
   "cell_type": "markdown",
   "metadata": {},
   "source": [
    "### Відфільтровуємо сегмент записів по ознакам : Чоловік, молодше 18, зареєстрований"
   ]
  },
  {
   "cell_type": "code",
   "execution_count": 20,
   "metadata": {},
   "outputs": [],
   "source": [
    "filtered = result_df[(result_df['Signed_In'] == 1) & (result_df['Gender'] == 'Чоловік') & (result_df['age_group'] == '<18')]"
   ]
  },
  {
   "cell_type": "markdown",
   "metadata": {},
   "source": [
    "CTR"
   ]
  },
  {
   "cell_type": "code",
   "execution_count": 22,
   "metadata": {},
   "outputs": [
    {
     "data": {
      "text/plain": [
       "2.717932521226208"
      ]
     },
     "execution_count": 22,
     "metadata": {},
     "output_type": "execute_result"
    }
   ],
   "source": [
    "filtered['Clicks'].sum() / filtered['Impressions'].sum() * 100"
   ]
  },
  {
   "cell_type": "markdown",
   "metadata": {},
   "source": [
    "MEAN"
   ]
  },
  {
   "cell_type": "code",
   "execution_count": 23,
   "metadata": {},
   "outputs": [
    {
     "data": {
      "text/plain": [
       "0.13595003106192427"
      ]
     },
     "execution_count": 23,
     "metadata": {},
     "output_type": "execute_result"
    }
   ],
   "source": [
    "filtered['Clicks'].mean()"
   ]
  },
  {
   "cell_type": "code",
   "execution_count": 24,
   "metadata": {},
   "outputs": [
    {
     "data": {
      "text/plain": [
       "5.001964912675233"
      ]
     },
     "execution_count": 24,
     "metadata": {},
     "output_type": "execute_result"
    }
   ],
   "source": [
    "filtered['Impressions'].mean()"
   ]
  },
  {
   "cell_type": "markdown",
   "metadata": {},
   "source": [
    "MEDIAN"
   ]
  },
  {
   "cell_type": "code",
   "execution_count": null,
   "metadata": {},
   "outputs": [],
   "source": [
    "filtered['Impressions'].median()"
   ]
  },
  {
   "cell_type": "markdown",
   "metadata": {},
   "source": [
    "DISPERSION"
   ]
  },
  {
   "cell_type": "code",
   "execution_count": 25,
   "metadata": {},
   "outputs": [
    {
     "data": {
      "text/plain": [
       "5.029053877905324"
      ]
     },
     "execution_count": 25,
     "metadata": {},
     "output_type": "execute_result"
    }
   ],
   "source": [
    "filtered['Impressions'].var()"
   ]
  },
  {
   "cell_type": "markdown",
   "metadata": {},
   "source": [
    "QUANTILIES"
   ]
  },
  {
   "cell_type": "code",
   "execution_count": 26,
   "metadata": {},
   "outputs": [
    {
     "data": {
      "text/plain": [
       "3.0"
      ]
     },
     "execution_count": 26,
     "metadata": {},
     "output_type": "execute_result"
    }
   ],
   "source": [
    "filtered['Impressions'].quantile(0.25)"
   ]
  },
  {
   "cell_type": "code",
   "execution_count": 27,
   "metadata": {},
   "outputs": [
    {
     "data": {
      "text/plain": [
       "6.0"
      ]
     },
     "execution_count": 27,
     "metadata": {},
     "output_type": "execute_result"
    }
   ],
   "source": [
    "filtered['Impressions'].quantile(0.75)"
   ]
  },
  {
   "cell_type": "markdown",
   "metadata": {},
   "source": [
    "MIN/MAX"
   ]
  },
  {
   "cell_type": "code",
   "execution_count": 28,
   "metadata": {},
   "outputs": [
    {
     "data": {
      "text/plain": [
       "0"
      ]
     },
     "execution_count": 28,
     "metadata": {},
     "output_type": "execute_result"
    }
   ],
   "source": [
    "filtered['Impressions'].min()"
   ]
  },
  {
   "cell_type": "code",
   "execution_count": 29,
   "metadata": {},
   "outputs": [
    {
     "data": {
      "text/plain": [
       "18"
      ]
     },
     "execution_count": 29,
     "metadata": {},
     "output_type": "execute_result"
    }
   ],
   "source": [
    "filtered['Impressions'].max()"
   ]
  },
  {
   "cell_type": "markdown",
   "metadata": {},
   "source": [
    "### Відфільтровуємо сегмент записів по ознакам : Жінка, старше 65, зареєстрована"
   ]
  },
  {
   "cell_type": "code",
   "execution_count": 32,
   "metadata": {},
   "outputs": [],
   "source": [
    "filtered = result_df[(result_df['Signed_In'] == 1) & (result_df['Gender'] == 'Жінка') & (result_df['age_group'] == '65+')]"
   ]
  },
  {
   "cell_type": "code",
   "execution_count": 47,
   "metadata": {},
   "outputs": [
    {
     "name": "stdout",
     "output_type": "stream",
     "text": [
      "Жінка, старше 65. Покази\n",
      "CTR % 2.992690196319892\n",
      "Середнє значення :  5.002704877635571\n",
      "Медіана :  5.0\n",
      "Дисперсія :  4.993000417085082\n",
      "25% квантиль 3.0\n",
      "50% квантиль 5.0\n",
      "75% квантиль 6.0\n",
      "Мінімум 0\n",
      "Максимум 19\n"
     ]
    }
   ],
   "source": [
    "print('Жінка, старше 65. Покази')\n",
    "print('CTR %',filtered['Clicks'].sum() / filtered['Impressions'].sum() * 100)\n",
    "print('Середнє значення : ',filtered['Impressions'].mean())\n",
    "print('Медіана : ',filtered['Impressions'].median())\n",
    "print('Дисперсія : ',filtered['Impressions'].var())\n",
    "print('25% квантиль',filtered['Impressions'].quantile(0.25))\n",
    "print('50% квантиль',filtered['Impressions'].quantile(0.50))\n",
    "print('75% квантиль',filtered['Impressions'].quantile(0.75))\n",
    "print('Мінімум',filtered['Impressions'].min())\n",
    "print('Максимум',filtered['Impressions'].max())"
   ]
  },
  {
   "cell_type": "markdown",
   "metadata": {},
   "source": [
    "•\tРезультати статистичного дослідження подати у вигляді результуючого ДатаФрейма (одного), дивлячись на який можна зрозуміти і порівнювати дані за віковими підкатегоріями."
   ]
  },
  {
   "cell_type": "code",
   "execution_count": 71,
   "metadata": {},
   "outputs": [],
   "source": [
    "pivot_table = result_df[result_df['Signed_In']==1].pivot_table(index=['Gender','age_group'] , values=['Clicks','Impressions'], aggfunc='sum')\n",
    "pivot_table.columns = ['Переходи','Покази']\n",
    "pivot_table.index.names = ['Стать', 'Вікова група']"
   ]
  },
  {
   "cell_type": "code",
   "execution_count": 72,
   "metadata": {},
   "outputs": [
    {
     "data": {
      "text/html": [
       "<div>\n",
       "<style scoped>\n",
       "    .dataframe tbody tr th:only-of-type {\n",
       "        vertical-align: middle;\n",
       "    }\n",
       "\n",
       "    .dataframe tbody tr th {\n",
       "        vertical-align: top;\n",
       "    }\n",
       "\n",
       "    .dataframe thead th {\n",
       "        text-align: right;\n",
       "    }\n",
       "</style>\n",
       "<table border=\"1\" class=\"dataframe\">\n",
       "  <thead>\n",
       "    <tr style=\"text-align: right;\">\n",
       "      <th></th>\n",
       "      <th></th>\n",
       "      <th>Переходи</th>\n",
       "      <th>Покази</th>\n",
       "    </tr>\n",
       "    <tr>\n",
       "      <th>Стать</th>\n",
       "      <th>Вікова група</th>\n",
       "      <th></th>\n",
       "      <th></th>\n",
       "    </tr>\n",
       "  </thead>\n",
       "  <tbody>\n",
       "    <tr>\n",
       "      <th rowspan=\"7\" valign=\"top\">Жінка</th>\n",
       "      <th>&lt;18</th>\n",
       "      <td>25810</td>\n",
       "      <td>1009067</td>\n",
       "    </tr>\n",
       "    <tr>\n",
       "      <th>18-24</th>\n",
       "      <td>26444</td>\n",
       "      <td>2640764</td>\n",
       "    </tr>\n",
       "    <tr>\n",
       "      <th>25-34</th>\n",
       "      <td>40253</td>\n",
       "      <td>4007824</td>\n",
       "    </tr>\n",
       "    <tr>\n",
       "      <th>35-44</th>\n",
       "      <td>48343</td>\n",
       "      <td>4810547</td>\n",
       "    </tr>\n",
       "    <tr>\n",
       "      <th>45-54</th>\n",
       "      <td>45439</td>\n",
       "      <td>4330035</td>\n",
       "    </tr>\n",
       "    <tr>\n",
       "      <th>55-64</th>\n",
       "      <td>60747</td>\n",
       "      <td>2985676</td>\n",
       "    </tr>\n",
       "    <tr>\n",
       "      <th>65+</th>\n",
       "      <td>77767</td>\n",
       "      <td>2598565</td>\n",
       "    </tr>\n",
       "    <tr>\n",
       "      <th rowspan=\"7\" valign=\"top\">Чоловік</th>\n",
       "      <th>&lt;18</th>\n",
       "      <td>48363</td>\n",
       "      <td>1779404</td>\n",
       "    </tr>\n",
       "    <tr>\n",
       "      <th>18-24</th>\n",
       "      <td>29309</td>\n",
       "      <td>2934753</td>\n",
       "    </tr>\n",
       "    <tr>\n",
       "      <th>25-34</th>\n",
       "      <td>44611</td>\n",
       "      <td>4455894</td>\n",
       "    </tr>\n",
       "    <tr>\n",
       "      <th>35-44</th>\n",
       "      <td>53446</td>\n",
       "      <td>5356587</td>\n",
       "    </tr>\n",
       "    <tr>\n",
       "      <th>45-54</th>\n",
       "      <td>49933</td>\n",
       "      <td>4807768</td>\n",
       "    </tr>\n",
       "    <tr>\n",
       "      <th>55-64</th>\n",
       "      <td>67084</td>\n",
       "      <td>3313891</td>\n",
       "    </tr>\n",
       "    <tr>\n",
       "      <th>65+</th>\n",
       "      <td>42771</td>\n",
       "      <td>1416631</td>\n",
       "    </tr>\n",
       "  </tbody>\n",
       "</table>\n",
       "</div>"
      ],
      "text/plain": [
       "                      Переходи   Покази\n",
       "Стать   Вікова група                   \n",
       "Жінка   <18              25810  1009067\n",
       "        18-24            26444  2640764\n",
       "        25-34            40253  4007824\n",
       "        35-44            48343  4810547\n",
       "        45-54            45439  4330035\n",
       "        55-64            60747  2985676\n",
       "        65+              77767  2598565\n",
       "Чоловік <18              48363  1779404\n",
       "        18-24            29309  2934753\n",
       "        25-34            44611  4455894\n",
       "        35-44            53446  5356587\n",
       "        45-54            49933  4807768\n",
       "        55-64            67084  3313891\n",
       "        65+              42771  1416631"
      ]
     },
     "execution_count": 72,
     "metadata": {},
     "output_type": "execute_result"
    }
   ],
   "source": [
    "pivot_table"
   ]
  }
 ],
 "metadata": {
  "kernelspec": {
   "display_name": "Python 3",
   "language": "python",
   "name": "python3"
  },
  "language_info": {
   "codemirror_mode": {
    "name": "ipython",
    "version": 3
   },
   "file_extension": ".py",
   "mimetype": "text/x-python",
   "name": "python",
   "nbconvert_exporter": "python",
   "pygments_lexer": "ipython3",
   "version": "3.11.0"
  }
 },
 "nbformat": 4,
 "nbformat_minor": 2
}
